{
 "cells": [
  {
   "cell_type": "code",
   "execution_count": null,
   "id": "81ff9f95",
   "metadata": {},
   "outputs": [],
   "source": [
    "\n",
    "import pandas as pd\n",
    "import matplotlib.pyplot as plt         "
   ]
  },
  {
   "cell_type": "code",
   "execution_count": null,
   "id": "6651312c",
   "metadata": {},
   "outputs": [],
   "source": [
    "data = pd.read_csv('Crop and fertilizer dataset.csv')"
   ]
  },
  {
   "cell_type": "code",
   "execution_count": null,
   "id": "d07d8be8",
   "metadata": {},
   "outputs": [],
   "source": [
    "data"
   ]
  },
  {
   "cell_type": "code",
   "execution_count": null,
   "id": "853b614e",
   "metadata": {},
   "outputs": [],
   "source": [
    "#Count Null values\n",
    "data.isnull().sum()"
   ]
  },
  {
   "cell_type": "code",
   "execution_count": null,
   "id": "ad0931d2",
   "metadata": {},
   "outputs": [],
   "source": [
    "#No. of Rows and Columns\n",
    "data.shape"
   ]
  },
  {
   "cell_type": "code",
   "execution_count": null,
   "id": "3104f23b",
   "metadata": {},
   "outputs": [],
   "source": [
    "# Information\n",
    "data.info()"
   ]
  },
  {
   "cell_type": "code",
   "execution_count": null,
   "id": "cba9b73f",
   "metadata": {},
   "outputs": [],
   "source": [
    "#No. of Duplicates\n",
    "data.duplicated().sum()"
   ]
  },
  {
   "cell_type": "code",
   "execution_count": null,
   "id": "ba33981d",
   "metadata": {},
   "outputs": [],
   "source": [
    "#Describe the data\n",
    "data.describe()"
   ]
  },
  {
   "cell_type": "code",
   "execution_count": null,
   "id": "4842891c",
   "metadata": {},
   "outputs": [],
   "source": [
    "numeric_data = data.select_dtypes(include='number')\n",
    "corr = numeric_data.corr()\n"
   ]
  },
  {
   "cell_type": "code",
   "execution_count": null,
   "id": "666fb115",
   "metadata": {},
   "outputs": [],
   "source": [
    "# Drop non-numeric columns\n",
    "data_numeric = data.drop(columns=['non_numeric_column1', 'non_numeric_column2'])\n",
    "\n",
    "# OR encode non-numeric values\n",
    "data_encoded = pd.get_dummies(data, columns=['non_numeric_column1', 'non_numeric_column2'])\n",
    "\n",
    "# Calculate correlation\n",
    "corr = data_numeric.corr()\n"
   ]
  },
  {
   "cell_type": "code",
   "execution_count": null,
   "id": "35171452",
   "metadata": {},
   "outputs": [],
   "source": [
    "corr = data.corr()\n",
    "corr"
   ]
  },
  {
   "cell_type": "code",
   "execution_count": null,
   "id": "909b03c3",
   "metadata": {},
   "outputs": [],
   "source": [
    "pip install seaborn"
   ]
  },
  {
   "cell_type": "code",
   "execution_count": null,
   "id": "65a0d195",
   "metadata": {},
   "outputs": [],
   "source": [
    "import seaborn as sns\n",
    "sns.heatmap(corr,annot=True,cbar=True , cmap='coolwarm')"
   ]
  },
  {
   "cell_type": "code",
   "execution_count": null,
   "id": "29e40718",
   "metadata": {},
   "outputs": [],
   "source": [
    "pip install scikit-learn"
   ]
  },
  {
   "cell_type": "code",
   "execution_count": null,
   "id": "962ddd46",
   "metadata": {},
   "outputs": [],
   "source": [
    "\n",
    "from sklearn.model_selection import train_test_split\n",
    "from sklearn.preprocessing import OneHotEncoder"
   ]
  },
  {
   "cell_type": "code",
   "execution_count": null,
   "id": "eaf79c04",
   "metadata": {},
   "outputs": [],
   "source": [
    "def perform_encoding(df, columns, encoder=None):\n",
    "    if encoder is None:\n",
    "        encoder = OneHotEncoder(sparse=False, handle_unknown='ignore')\n",
    "        encoder.fit(df[columns])\n",
    "    encoded_data = pd.DataFrame(encoder.transform(df[columns]))\n",
    "    feature_names = encoder.get_feature_names_out(columns)\n",
    "    encoded_data.columns = feature_names\n",
    "    return encoded_data, encoder\n"
   ]
  },
  {
   "cell_type": "code",
   "execution_count": null,
   "id": "3a905091",
   "metadata": {},
   "outputs": [],
   "source": [
    "from sklearn.ensemble import RandomForestClassifier\n",
    "from sklearn.metrics import accuracy_score\n"
   ]
  },
  {
   "cell_type": "code",
   "execution_count": null,
   "id": "abf6af10",
   "metadata": {},
   "outputs": [],
   "source": [
    "# Prepare the data\n",
    "X_categorical = data[['District_Name', 'Soil_color']]\n",
    "X_numerical = data[['Nitrogen', 'Phosphorus', 'Potassium', 'pH', 'Rainfall', 'Temperature']]\n",
    "y = data[['Crop', 'Fertilizer']]\n"
   ]
  },
  {
   "cell_type": "code",
   "execution_count": null,
   "id": "40b1bc5c",
   "metadata": {},
   "outputs": [],
   "source": [
    "X_categorical = data[['District_Name', 'Soil_color']]\n",
    "X_numerical = data[['Nitrogen', 'Phosphorus', 'Potassium', 'pH', 'Rainfall', 'Temperature']]\n",
    "y = data[['Crop', 'Fertilizer']]\n"
   ]
  },
  {
   "cell_type": "code",
   "execution_count": null,
   "id": "3db7aeae",
   "metadata": {},
   "outputs": [],
   "source": [
    "# Prepare the data\n",
    "\n",
    "# Handle error for float to string conversion in District_Name and Soil_color\n",
    "district_name = \"Kolhapur\"\n",
    "soil_color = \"Black\""
   ]
  },
  {
   "cell_type": "code",
   "execution_count": null,
   "id": "4b780617",
   "metadata": {},
   "outputs": [],
   "source": [
    "# Prepare the input data\n",
    "input_categorical = pd.DataFrame({\n",
    "    'District_Name': [district_name],\n",
    "    'Soil_color': [soil_color]\n",
    "})\n",
    "\n",
    "input_numerical = pd.DataFrame({\n",
    "    'Nitrogen': float(75),\n",
    "    'Phosphorus': float(50),\n",
    "    'Potassium': float(100),\n",
    "    'pH': float(6.5),\n",
    "    'Rainfall': float(1000),\n",
    "    'Temperature': float(20)\n",
    "}, index=[0])  # Add an index here\n",
    "\n",
    "# Now, concatenate both DataFrames along columns\n",
    "input_data = pd.concat([input_categorical, input_numerical], axis=1)\n"
   ]
  },
  {
   "cell_type": "code",
   "execution_count": null,
   "id": "5a4be079",
   "metadata": {},
   "outputs": [],
   "source": [
    "def perform_encoding(df, columns, encoder=None):\n",
    "    if encoder is None:\n",
    "        encoder = OneHotEncoder(handle_unknown='ignore')\n",
    "        encoder.fit(df[columns])\n",
    "    encoded_data = pd.DataFrame(encoder.transform(df[columns]).toarray(), columns=encoder.get_feature_names_out(columns))\n",
    "    return encoded_data, encoder\n"
   ]
  },
  {
   "cell_type": "code",
   "execution_count": null,
   "id": "d5e93df4",
   "metadata": {},
   "outputs": [],
   "source": [
    "# Encode the categorical variables in the dataset\n",
    "categorical_columns = ['District_Name', 'Soil_color']\n",
    "X_categorical_encoded, encoder = perform_encoding(X_categorical, categorical_columns)"
   ]
  },
  {
   "cell_type": "code",
   "execution_count": null,
   "id": "6d491e9b",
   "metadata": {},
   "outputs": [],
   "source": [
    "# Concatenate the encoded categorical variables with the numerical variables\n",
    "X_encoded = pd.concat([X_categorical_encoded, X_numerical], axis=1)\n"
   ]
  },
  {
   "cell_type": "code",
   "execution_count": null,
   "id": "fc971b95",
   "metadata": {},
   "outputs": [],
   "source": [
    "\n",
    "# Split the dataset into training and testing sets\n",
    "X_train, X_test, y_train, y_test = train_test_split(X_encoded, y, test_size=0.2, random_state=42)"
   ]
  },
  {
   "cell_type": "code",
   "execution_count": null,
   "id": "2ab15d81",
   "metadata": {},
   "outputs": [],
   "source": [
    "\n",
    "# Encode the input data\n",
    "input_categorical_encoded, _ = perform_encoding(input_categorical, categorical_columns, encoder)\n",
    "input_encoded = pd.concat([input_categorical_encoded, input_numerical], axis=1)"
   ]
  },
  {
   "cell_type": "code",
   "execution_count": null,
   "id": "b3af4464",
   "metadata": {},
   "outputs": [],
   "source": [
    "# Train the model\n",
    "model = RandomForestClassifier()\n",
    "model.fit(X_train, y_train)\n"
   ]
  },
  {
   "cell_type": "code",
   "execution_count": null,
   "id": "0c3e3d0a",
   "metadata": {},
   "outputs": [],
   "source": [
    "\n",
    "# Predict the output\n",
    "prediction = model.predict(input_encoded)"
   ]
  },
  {
   "cell_type": "code",
   "execution_count": null,
   "id": "fedf74dd",
   "metadata": {},
   "outputs": [],
   "source": [
    "\n",
    "# Print the predicted crop and fertilizer\n",
    "output_crop = prediction[0][0]\n",
    "output_fertilizer = prediction[0][1]"
   ]
  },
  {
   "cell_type": "code",
   "execution_count": null,
   "id": "2d12d10f",
   "metadata": {},
   "outputs": [],
   "source": [
    "\n",
    "# Find the corresponding link for the predicted crop and fertilizer\n",
    "link = data[(data['Crop'] == output_crop) & (data['Fertilizer'] == output_fertilizer)]['Link'].values[0]\n",
    "\n",
    "print(\"Predicted Crop:\", output_crop)\n",
    "print(\"Predicted Fertilizer:\", output_fertilizer)\n",
    "print(\"Link:\", link)\n"
   ]
  },
  {
   "cell_type": "code",
   "execution_count": null,
   "id": "13aff0c7",
   "metadata": {},
   "outputs": [],
   "source": []
  }
 ],
 "metadata": {
  "kernelspec": {
   "display_name": "Python 3 (ipykernel)",
   "language": "python",
   "name": "python3"
  },
  "language_info": {
   "codemirror_mode": {
    "name": "ipython",
    "version": 3
   },
   "file_extension": ".py",
   "mimetype": "text/x-python",
   "name": "python",
   "nbconvert_exporter": "python",
   "pygments_lexer": "ipython3",
   "version": "3.10.0"
  }
 },
 "nbformat": 4,
 "nbformat_minor": 5
}
